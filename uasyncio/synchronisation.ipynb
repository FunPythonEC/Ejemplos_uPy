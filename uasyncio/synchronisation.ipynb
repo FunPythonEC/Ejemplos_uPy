{
 "cells": [
  {
   "cell_type": "markdown",
   "metadata": {},
   "source": [
    "# Synchronisation\n",
    "\n",
    "Basically synchronization is needed so that there isn't a race between the coros. And for that we have the following, however it is important to have in mind that not most of the following work as intended, some aren't totally complete yet."
   ]
  },
  {
   "cell_type": "markdown",
   "metadata": {},
   "source": [
    "## Lock\n",
    "\n",
    "A lock basically lets you put other functions in a wait state before it is released, meaning they are acquired by a function, and the other ones that wait for it, can't continue before it is released, this way all the functions can run one after another without problems. Of course they don't necesarily run in a desired order.\n",
    "\n",
    "Here we will show some examples, first we must connect with the board."
   ]
  },
  {
   "cell_type": "code",
   "execution_count": 1,
   "metadata": {},
   "outputs": [
    {
     "name": "stdout",
     "output_type": "stream",
     "text": [
      "\u001b[34mConnecting to --port=/dev/ttyUSB0 --baud=115200 \u001b[0mcould not open port /dev/ttyUSB0: [Errno 2] No such file or directory: '/dev/ttyUSB0'\n",
      "\u001b[34m\n",
      "Are you sure your ESP-device is plugged in?\u001b[0m"
     ]
    }
   ],
   "source": [
    "%serialconnect --port /dev/ttyUSB0 --baudrate 115200"
   ]
  },
  {
   "cell_type": "markdown",
   "metadata": {},
   "source": [
    "Then first, uasyncio and Lock must be imported, as well as our function which will let us show how lock works and a killer function which defines a time in specific in which the processes will run."
   ]
  },
  {
   "cell_type": "code",
   "execution_count": null,
   "metadata": {},
   "outputs": [],
   "source": [
    "async def task(i, lock):\n",
    "    while 1:\n",
    "        await lock.acquire()\n",
    "        print(\"Acquired lock in task\", i)\n",
    "        await asyncio.sleep(0.5)\n",
    "        lock.release()\n",
    "\n",
    "async def killer():\n",
    "    await asyncio.sleep(10)"
   ]
  },
  {
   "cell_type": "markdown",
   "metadata": {},
   "source": [
    "Then we initialize our `Lock` as follows, were as a parameter you can define a delay in ms., Remember it would be considered as a global instance."
   ]
  },
  {
   "cell_type": "code",
   "execution_count": null,
   "metadata": {},
   "outputs": [],
   "source": [
    "lock = Lock()"
   ]
  },
  {
   "cell_type": "code",
   "execution_count": null,
   "metadata": {},
   "outputs": [],
   "source": [
    "And last, we add the desired tasks an run it."
   ]
  },
  {
   "cell_type": "code",
   "execution_count": null,
   "metadata": {},
   "outputs": [],
   "source": [
    "\n",
    "loop.create_task(task(1, lock))\n",
    "loop.create_task(task(2, lock))\n",
    "loop.create_task(task(3, lock))\n",
    "\n",
    "loop.run_until_complete(killer()) "
   ]
  },
  {
   "cell_type": "code",
   "execution_count": null,
   "metadata": {},
   "outputs": [],
   "source": []
  },
  {
   "cell_type": "markdown",
   "metadata": {},
   "source": [
    "## Event\n",
    "\n",
    "The event class is kinda like `Lock` one, the difference is that `Lock` puts all coros in some sort of order in which just one of them is run after the other, however event lets us stops on or more at the same time, and then let them continue at the same time. In order to use event, we should then import `asyn`."
   ]
  },
  {
   "cell_type": "code",
   "execution_count": null,
   "metadata": {},
   "outputs": [],
   "source": [
    "import asyn\n",
    "event = asyn.Event()"
   ]
  },
  {
   "cell_type": "code",
   "execution_count": null,
   "metadata": {},
   "outputs": [],
   "source": [
    "async def eventwait(event):\n",
    "    print('waiting for event')\n",
    "    await event\n",
    "    print('got event')\n",
    "    event.clear()\n",
    "loop = asyncio.get_event_loop()\n",
    "loop.create_task(eventset(event))\n",
    "await eventwait(event)"
   ]
  },
  {
   "cell_type": "markdown",
   "metadata": {},
   "source": [
    "## Barrier\n",
    "\n",
    "This one basically lets a coro wait for another function to run before continuing. In this case some parameters must be specified like the amount of coros that will use it, the callback and the parameters of the callback. Lets run an example:\n"
   ]
  },
  {
   "cell_type": "code",
   "execution_count": 2,
   "metadata": {},
   "outputs": [
    {
     "name": "stdout",
     "output_type": "stream",
     "text": [
      "\u001b[31mNo serial connected\n",
      "\u001b[0m  %serialconnect to connect\n",
      "  %esptool to flash the device\n",
      "  %lsmagic to list commands"
     ]
    }
   ],
   "source": [
    "import asyn\n",
    "\n",
    "def callback(text):\n",
    "    print(text)\n",
    "\n",
    "barrier = asyn.Barrier(3, callback, ('Synch',))\n",
    "\n",
    "async def report():\n",
    "    for i in range(5):\n",
    "        print('{} '.format(i), end='')\n",
    "        await barrier"
   ]
  },
  {
   "cell_type": "markdown",
   "metadata": {},
   "source": [
    "## Semaphore\n",
    "\n",
    "Semaphore, different from `Locks`, lets us put in queue coros, and in some way just a defined amount of them can keep running, just when the object semaphore is released. Lets run an example to understand it more."
   ]
  },
  {
   "cell_type": "code",
   "execution_count": null,
   "metadata": {},
   "outputs": [],
   "source": [
    "import asyncio\n",
    "import time\n",
    "\n",
    "async def myWorker(semaphore):\n",
    "    await semaphore.acquire()\n",
    "    print(\"Successfully acquired the semaphore\")\n",
    "    await asyncio.sleep(3)\n",
    "    print(\"Releasing Semaphore\")\n",
    "    semaphore.release()\n",
    "\n",
    "async def main(loop):\n",
    "    mySemaphore = asyncio.Semaphore(value=2)\n",
    "    await asyncio.wait([myWorker(mySemaphore), myWorker(mySemaphore), myWorker(mySemaphore)])\n",
    "    print(\"Main Coroutine\")\n",
    "\n",
    "loop = asyncio.get_event_loop()\n",
    "loop.run_until_complete(main(loop))\n",
    "print(\"All Workers Completed\")\n",
    "loop.close()"
   ]
  },
  {
   "cell_type": "markdown",
   "metadata": {},
   "source": [
    "## Queue\n",
    "\n",
    "At last we have `Queue`, which lets us to pass values between coros. If the object Queue doesn't have anything inside, what is returned is None."
   ]
  },
  {
   "cell_type": "code",
   "execution_count": null,
   "metadata": {},
   "outputs": [],
   "source": [
    "from uasyncio.queues import Queue\n",
    "q = Queue()\n",
    "async def producer(q):\n",
    "    while True:\n",
    "        result = await slow_process()  # somehow get some data\n",
    "        await q.put(result) \n",
    "        \n",
    "\n",
    "async def consumer(q):\n",
    "    while True:\n",
    "        result = await(q.get())  # Will pause if q is empty\n",
    "        print('Result was {}'.format(result))\n"
   ]
  }
 ],
 "metadata": {
  "kernelspec": {
   "display_name": "MicroPython - USB",
   "language": "micropython",
   "name": "micropython"
  },
  "language_info": {
   "codemirror_mode": "python",
   "file_extension": ".py",
   "mimetype": "text/python",
   "name": "micropython"
  }
 },
 "nbformat": 4,
 "nbformat_minor": 4
}
