{
 "cells": [
  {
   "cell_type": "markdown",
   "metadata": {},
   "source": [
    "# Synchronisation\n",
    "\n",
    "Basically synchronization is needed so that there isn't a race between the coros, although this is supposed to be asynchronous programming, it could still need some order when excecuting. And for that we have the following, however it is important to have in mind that not most of the following work as intended, some aren't totally complete yet.\n",
    "\n",
    "## Lock\n",
    "\n",
    "A lock basically lets you put other functions in a wait state before it is released, meaning they are acquired by a function, and the other ones that wait for it, can't continue before it is released, this way all the functions can run one after another without problems. The order in which they run one after the other depends on the order they are defined.\n",
    "\n",
    "Here we will show some examples, first we must connect with the board."
   ]
  },
  {
   "cell_type": "code",
   "execution_count": 1,
   "metadata": {},
   "outputs": [
    {
     "name": "stdout",
     "output_type": "stream",
     "text": [
      "\u001b[34mConnecting to --port=/dev/ttyUSB0 --baud=115200 \u001b[0m\n",
      "\u001b[34mReady.\n",
      "\u001b[0m"
     ]
    }
   ],
   "source": [
    "%serialconnect --port /dev/ttyUSB0 --baudrate 115200"
   ]
  },
  {
   "cell_type": "markdown",
   "metadata": {},
   "source": [
    "Then first, `uasyncio` and `Lock` must be imported, as well as our function which will let us show how lock works and a killer function which defines a time in specific in which the processes will run."
   ]
  },
  {
   "cell_type": "code",
   "execution_count": 2,
   "metadata": {},
   "outputs": [],
   "source": [
    "import uasyncio as asyncio\n",
    "from uasyncio.synchro import Lock\n",
    "\n",
    "#async function defined to get the lock and after some time to release it\n",
    "async def task(i,sleep, lock):\n",
    "    while 1:\n",
    "        print('Waiting lock in task ',i)\n",
    "        await lock.acquire()\n",
    "        print(\"Acquired lock in task \",i)\n",
    "        await asyncio.sleep(sleep)\n",
    "        print('Realeasing lock in task ',i)\n",
    "        lock.release()\n",
    "\n",
    "# killer function lets us run the asyncio example fot about 10 seconds, we pass loop so that we can stop it.\n",
    "async def killer(loop):\n",
    "    await asyncio.sleep(10)\n",
    "    loop.stop()\n",
    "    loop.close()"
   ]
  },
  {
   "cell_type": "markdown",
   "metadata": {},
   "source": [
    "Then we initialize our `Lock` as follows, were as a parameter you can define a delay in ms., Remember it would be considered as a global instance."
   ]
  },
  {
   "cell_type": "code",
   "execution_count": 3,
   "metadata": {},
   "outputs": [],
   "source": [
    "lock = Lock()"
   ]
  },
  {
   "cell_type": "markdown",
   "metadata": {},
   "source": [
    "And last, we add the desired tasks an run it."
   ]
  },
  {
   "cell_type": "code",
   "execution_count": 4,
   "metadata": {},
   "outputs": [
    {
     "name": "stdout",
     "output_type": "stream",
     "text": [
      "Waiting lock in task  1\n",
      "Waiting lock in task  2\n",
      "Waiting lock in task  3\n",
      "Acquired lock in task  1\n",
      "Realeasing lock in task  1\n",
      "Waiting lock in task  1\n",
      "Acquired lock in task  2\n",
      "Realeasing lock in task  2\n",
      "Waiting lock in task  2\n",
      "Acquired lock in task  3\n",
      "Realeasing lock in task  3\n",
      "Waiting lock in task  3\n",
      "Acquired lock in task  1\n",
      "Realeasing lock in task  1\n",
      "Waiting lock in task  1\n",
      "Acquired lock in task  2\n",
      "Realeasing lock in task  2\n",
      "Waiting lock in task  2\n",
      "Acquired lock in task  3\n",
      "Realeasing lock in task  3\n",
      "Waiting lock in task  3\n",
      "Acquired lock in task  1\n",
      "Realeasing lock in task  1\n",
      "Waiting lock in task  1\n",
      "Acquired lock in task  2\n",
      "Realeasing lock in task  2\n",
      "Waiting lock in task  2\n",
      "Acquired lock in task  3\n",
      "Realeasing lock in task  3\n",
      "Waiting lock in task  3\n",
      "Acquired lock in task  1\n",
      "Realeasing lock in task  1\n",
      "Waiting lock in task  1\n",
      "Acquired lock in task  2\n"
     ]
    }
   ],
   "source": [
    "loop=asyncio.get_event_loop()\n",
    "loop.create_task(task(1, 0.5, lock))\n",
    "loop.create_task(task(2, 1, lock))\n",
    "loop.create_task(task(3, 1.5, lock))\n",
    "\n",
    "loop.run_until_complete(killer(loop)) "
   ]
  },
  {
   "cell_type": "code",
   "execution_count": 5,
   "metadata": {},
   "outputs": [
    {
     "name": "stdout",
     "output_type": "stream",
     "text": [
      "repl is in normal command mode\n",
      "[\\r\\x03\\x03] b'\\r\\nMicroPython v1.12 on 2019-12-20; ESP32 module with ESP32\\r\\nType \"help()\" for more information.\\r\\n>>> \\r\\n>>> \\r\\nMPY: soft reboot\\r\\nMicroPython v1.12 on 2019-12-20; ESP32 module with ESP32\\r\\nType \"help()\" for more information.\\r\\n>>> \\r\\n>>> \\r\\n>>> '\n",
      "[\\r\\x01] b'\\r\\n>>> \\r\\nraw REPL; CTRL-B to exit\\r\\n>'"
     ]
    }
   ],
   "source": [
    "%rebootdevice"
   ]
  },
  {
   "cell_type": "markdown",
   "metadata": {},
   "source": [
    "## Event\n",
    "\n",
    "The event class is kinda like `Lock` one, the difference is that `Lock` puts all coros in some sort of order in which just one of them is run after the other, however event lets us stops one or more at the same time, and then let them continue at the same time. In order to use event, we should then import `asyn`."
   ]
  },
  {
   "cell_type": "code",
   "execution_count": 6,
   "metadata": {},
   "outputs": [
    {
     "name": "stdout",
     "output_type": "stream",
     "text": [
      "."
     ]
    }
   ],
   "source": [
    "import asyn\n",
    "import uasyncio as asyncio\n",
    "event = asyn.Event()"
   ]
  },
  {
   "cell_type": "markdown",
   "metadata": {},
   "source": [
    "Then it is needed to define the coroutines which will be run, `task` is the one that runs depending on the `Event()`, whether if it is set or clear. "
   ]
  },
  {
   "cell_type": "code",
   "execution_count": 7,
   "metadata": {},
   "outputs": [],
   "source": [
    "\n",
    "async def task(i, event):\n",
    "    while 1:\n",
    "        await event\n",
    "        if not event.is_set():\n",
    "            print('waiting for event in task ',i)\n",
    "        else:\n",
    "            print('now running in task ',i)\n",
    "        await asyncio.sleep(1)\n",
    "\n"
   ]
  },
  {
   "cell_type": "markdown",
   "metadata": {},
   "source": [
    "Afterwards we define `eventset`, which sets and clears the event in periods so that `task` can run."
   ]
  },
  {
   "cell_type": "code",
   "execution_count": 8,
   "metadata": {},
   "outputs": [],
   "source": [
    "async def eventset(event):\n",
    "    while 1:\n",
    "        event.clear()\n",
    "        print('event cleared')\n",
    "        await asyncio.sleep(2)\n",
    "        event.set()\n",
    "        print('event set for a little')\n",
    "        await asyncio.sleep(4)\n",
    "        \n",
    "\n",
    "async def killer(loop):\n",
    "    await asyncio.sleep(10)\n",
    "    loop.stop()\n",
    "    loop.close()"
   ]
  },
  {
   "cell_type": "code",
   "execution_count": 9,
   "metadata": {},
   "outputs": [
    {
     "name": "stdout",
     "output_type": "stream",
     "text": [
      "event cleared\n",
      "event set for a little\n",
      "now running in task  1\n",
      "now running in task  2\n",
      "now running in task  1\n",
      "now running in task  2\n",
      "now running in task  1\n",
      "now running in task  2\n",
      "now running in task  1\n",
      "now running in task  2\n",
      "event cleared\n",
      ".event set for a little\n",
      "now running in task  1\n",
      "now running in task  2\n",
      "now running in task  1\n",
      "now running in task  2\n"
     ]
    }
   ],
   "source": [
    "loop = asyncio.get_event_loop()\n",
    "loop.create_task(eventset(event))\n",
    "loop.create_task(task(1,event))\n",
    "loop.create_task(task(2,event))\n",
    "loop.create_task(killer(loop))\n",
    "loop.run_forever()"
   ]
  },
  {
   "cell_type": "code",
   "execution_count": 10,
   "metadata": {},
   "outputs": [
    {
     "name": "stdout",
     "output_type": "stream",
     "text": [
      "repl is in normal command mode\n",
      "[\\r\\x03\\x03] b'\\r\\nMicroPython v1.12 on 2019-12-20; ESP32 module with ESP32\\r\\nType \"help()\" for more information.\\r\\n>>> \\r\\n>>> \\r\\nMPY: soft reboot\\r\\nMicroPython v1.12 on 2019-12-20; ESP32 module with ESP32\\r\\nType \"help()\" for more information.\\r\\n>>> \\r\\n>>> \\r\\n>>> '\n",
      "[\\r\\x01] b'\\r\\n>>> \\r\\nraw REPL; CTRL-B to exit\\r\\n>'"
     ]
    }
   ],
   "source": [
    "%rebootdevice"
   ]
  },
  {
   "cell_type": "markdown",
   "metadata": {},
   "source": [
    "## Barrier\n",
    "\n",
    "This one basically lets a coro wait for another function to run before continuing. In this case some parameters must be specified like the amount of coros that will use it, the callback and the parameters of the callback. Lets run an example:\n"
   ]
  },
  {
   "cell_type": "code",
   "execution_count": 11,
   "metadata": {},
   "outputs": [
    {
     "name": "stdout",
     "output_type": "stream",
     "text": [
      "0 0 0 Synch\n",
      "1 1 1 Synch\n",
      "2 2 2 Synch\n",
      "3 3 3 Synch\n",
      ".4 4 4 Synch\n",
      ".."
     ]
    }
   ],
   "source": [
    "import asyn\n",
    "import uasyncio as asyncio\n",
    "\n",
    "#callback is defined\n",
    "def callback(text):\n",
    "    print(text)\n",
    "    \n",
    "#the first parameter corresponds to the amount of coros that will use the barrier\n",
    "barrier = asyn.Barrier(3, callback, ('Synch',))\n",
    "\n",
    "async def report(duration, barrier):\n",
    "    for i in range(5):\n",
    "        await asyncio.sleep(duration)\n",
    "        print('{} '.format(i), end='')\n",
    "        await barrier\n",
    "\n",
    "async def killer():\n",
    "    await asyncio.sleep(18)\n",
    "        \n",
    "loop = asyncio.get_event_loop()\n",
    "loop.create_task(report(0.5, barrier))\n",
    "loop.create_task(report(1, barrier))\n",
    "loop.create_task(report(1.5, barrier))\n",
    "loop.run_until_complete(killer())\n",
    "loop.close()"
   ]
  },
  {
   "cell_type": "code",
   "execution_count": 12,
   "metadata": {},
   "outputs": [
    {
     "name": "stdout",
     "output_type": "stream",
     "text": [
      "repl is in normal command mode\n",
      "[\\r\\x03\\x03] b'\\r\\nMicroPython v1.12 on 2019-12-20; ESP32 module with ESP32\\r\\nType \"help()\" for more information.\\r\\n>>> \\r\\n>>> \\r\\nMPY: soft reboot\\r\\nMicroPython v1.12 on 2019-12-20; ESP32 module with ESP32\\r\\nType \"help()\" for more information.\\r\\n>>> \\r\\n>>> \\r\\n>>> '\n",
      "[\\r\\x01] b'\\r\\n>>> \\r\\nraw REPL; CTRL-B to exit\\r\\n>'"
     ]
    }
   ],
   "source": [
    "%rebootdevice"
   ]
  },
  {
   "cell_type": "markdown",
   "metadata": {},
   "source": [
    "As you can see, with barrier, no other functions continues running until every of them is awaiting for the callback and don't continue until it is run."
   ]
  },
  {
   "cell_type": "markdown",
   "metadata": {},
   "source": [
    "## Semaphore\n",
    "\n",
    "Semaphore, different from `Locks`, lets us put in queue coros, and in some way just a defined amount of them can keep running, just when the object semaphore is released. Lets run an example to understand it more.\n",
    "\n",
    "First we must do the imports."
   ]
  },
  {
   "cell_type": "code",
   "execution_count": 13,
   "metadata": {},
   "outputs": [],
   "source": [
    "import uasyncio as asyncio\n",
    "import asyn"
   ]
  },
  {
   "cell_type": "markdown",
   "metadata": {},
   "source": [
    "Our functions are defined in order to see how semaphore works."
   ]
  },
  {
   "cell_type": "code",
   "execution_count": 14,
   "metadata": {},
   "outputs": [],
   "source": [
    "async def myWorker(i, duration, semaphore):\n",
    "    while 1:\n",
    "        await semaphore.acquire()\n",
    "        print(\"Successfully acquired the semaphore\", i)\n",
    "        await asyncio.sleep(3)\n",
    "        print(\"Releasing Semaphore\", i)\n",
    "        semaphore.release()\n",
    "        await asyncio.sleep(duration)\n",
    "    \n",
    "async def killer(duration, loop):\n",
    "        await asyncio.sleep(duration)\n",
    "        loop.stop()\n",
    "        loop.close()"
   ]
  },
  {
   "cell_type": "code",
   "execution_count": 15,
   "metadata": {},
   "outputs": [
    {
     "name": "stdout",
     "output_type": "stream",
     "text": [
      "Successfully acquired the semaphore 1\n",
      "Successfully acquired the semaphore 2\n",
      "Releasing Semaphore 1\n",
      "Successfully acquired the semaphore 3\n",
      "Releasing Semaphore 2\n",
      "Successfully acquired the semaphore 1\n",
      ".Releasing Semaphore 3\n",
      "Successfully acquired the semaphore 2\n",
      "Releasing Semaphore 1\n",
      "Successfully acquired the semaphore 3\n",
      "Releasing Semaphore 2\n",
      "Successfully acquired the semaphore 1\n",
      "Releasing Semaphore 3\n",
      "Successfully acquired the semaphore 3\n",
      ".Releasing Semaphore 1\n",
      "Successfully acquired the semaphore 2\n"
     ]
    }
   ],
   "source": [
    "sema=asyn.Semaphore(2)\n",
    "loop = asyncio.get_event_loop()\n",
    "loop.create_task(myWorker(1,2,sema))\n",
    "loop.create_task(myWorker(2,3,sema))\n",
    "loop.create_task(myWorker(3,1,sema))\n",
    "loop.create_task(killer(15,loop))\n",
    "loop.run_forever()"
   ]
  },
  {
   "cell_type": "code",
   "execution_count": 16,
   "metadata": {},
   "outputs": [
    {
     "name": "stdout",
     "output_type": "stream",
     "text": [
      "repl is in normal command mode\n",
      "[\\r\\x03\\x03] b'\\r\\nMicroPython v1.12 on 2019-12-20; ESP32 module with ESP32\\r\\nType \"help()\" for more information.\\r\\n>>> \\r\\n>>> \\r\\nMPY: soft reboot\\r\\nMicroPython v1.12 on 2019-12-20; ESP32 module with ESP32\\r\\nType \"help()\" for more information.\\r\\n>>> \\r\\n>>> \\r\\n>>> '\n",
      "[\\r\\x01] b'\\r\\n>>> \\r\\nraw REPL; CTRL-B to exit\\r\\n>'"
     ]
    }
   ],
   "source": [
    "%rebootdevice"
   ]
  },
  {
   "cell_type": "markdown",
   "metadata": {},
   "source": [
    "## Queue\n",
    "\n",
    "At last we have `Queue`, which lets us to pass values between coros. If the object Queue doesn't have anything inside, what is returned is None. First we must import needed modules and define our object Queue."
   ]
  },
  {
   "cell_type": "code",
   "execution_count": 17,
   "metadata": {},
   "outputs": [],
   "source": [
    "import uasyncio as asyncio\n",
    "from uasyncio.queues import Queue\n",
    "import urandom\n",
    "q = Queue()"
   ]
  },
  {
   "cell_type": "markdown",
   "metadata": {},
   "source": [
    "Then we must define our functions that will use Queue and the killer function."
   ]
  },
  {
   "cell_type": "code",
   "execution_count": 18,
   "metadata": {},
   "outputs": [],
   "source": [
    "async def slow_process():\n",
    "    return urandom.randint(1,20)\n",
    "\n",
    "async def producer(q):\n",
    "    while True:\n",
    "        result = await slow_process()  # somehow get some data\n",
    "        await asyncio.sleep(2)\n",
    "        await q.put(result) \n",
    "        \n",
    "\n",
    "async def consumer(q):\n",
    "    while True:\n",
    "        result = await(q.get())  # Will pause if q is empty\n",
    "        print('Result was {}'.format(result))\n"
   ]
  },
  {
   "cell_type": "code",
   "execution_count": 19,
   "metadata": {},
   "outputs": [],
   "source": [
    "async def killer(duration, loop):\n",
    "        await asyncio.sleep(duration)\n",
    "        loop.stop()\n",
    "        loop.close()"
   ]
  },
  {
   "cell_type": "code",
   "execution_count": 20,
   "metadata": {},
   "outputs": [
    {
     "name": "stdout",
     "output_type": "stream",
     "text": [
      "Result was 7\n",
      ".Result was 9\n",
      "Result was 4\n",
      ".Result was 4\n"
     ]
    }
   ],
   "source": [
    "loop=asyncio.get_event_loop()\n",
    "loop.create_task(producer(q))\n",
    "loop.create_task(consumer(q))\n",
    "loop.create_task(killer(10,loop))\n",
    "loop.run_forever()"
   ]
  },
  {
   "cell_type": "markdown",
   "metadata": {},
   "source": [
    "As you can see, when one result it put in queue, then the other can use it."
   ]
  },
  {
   "cell_type": "code",
   "execution_count": null,
   "metadata": {},
   "outputs": [],
   "source": []
  }
 ],
 "metadata": {
  "kernelspec": {
   "display_name": "MicroPython - USB",
   "language": "micropython",
   "name": "micropython"
  },
  "language_info": {
   "codemirror_mode": "python",
   "file_extension": ".py",
   "mimetype": "text/python",
   "name": "micropython"
  }
 },
 "nbformat": 4,
 "nbformat_minor": 4
}
