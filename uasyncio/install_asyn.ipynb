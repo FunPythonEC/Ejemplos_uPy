{
 "cells": [
  {
   "cell_type": "markdown",
   "metadata": {},
   "source": [
    "# Installing `asyn.py` for Queue and Event\n",
    "\n",
    "In order to get a script inside the ESP32, we can use some tools like `rshell` or `ampy`. Here we will use ampy as follows."
   ]
  },
  {
   "cell_type": "code",
   "execution_count": 1,
   "metadata": {},
   "outputs": [
    {
     "name": "stdout",
     "output_type": "stream",
     "text": [
      "Usage: ampy [OPTIONS] COMMAND [ARGS]...\n",
      "\n",
      "  ampy - Adafruit MicroPython Tool\n",
      "\n",
      "  Ampy is a tool to control MicroPython boards over a serial connection.\n",
      "  Using ampy you can manipulate files on the board's internal filesystem and\n",
      "  even run scripts.\n",
      "\n",
      "Options:\n",
      "  -p, --port PORT    Name of serial port for connected board.  Can optionally\n",
      "                     specify with AMPY_PORT environment variable.  [required]\n",
      "  -b, --baud BAUD    Baud rate for the serial connection (default 115200).\n",
      "                     Can optionally specify with AMPY_BAUD environment\n",
      "                     variable.\n",
      "  -d, --delay DELAY  Delay in seconds before entering RAW MODE (default 0).\n",
      "                     Can optionally specify with AMPY_DELAY environment\n",
      "                     variable.\n",
      "  --version          Show the version and exit.\n",
      "  --help             Show this message and exit.\n",
      "\n",
      "Commands:\n",
      "  get    Retrieve a file from the board.\n",
      "  ls     List contents of a directory on the board.\n",
      "  mkdir  Create a directory on the board.\n",
      "  put    Put a file or folder and its contents on the board.\n",
      "  reset  Perform soft reset/reboot of the board.\n",
      "  rm     Remove a file from the board.\n",
      "  rmdir  Forcefully remove a folder and all its children from the board.\n",
      "  run    Run a script and print its output.\n"
     ]
    }
   ],
   "source": [
    "!ampy"
   ]
  },
  {
   "cell_type": "code",
   "execution_count": 2,
   "metadata": {},
   "outputs": [],
   "source": [
    "!ampy -p /dev/ttyUSB0 put asyn.py"
   ]
  },
  {
   "cell_type": "markdown",
   "metadata": {},
   "source": [
    "Then we will see what modules are inside the ESP32."
   ]
  },
  {
   "cell_type": "code",
   "execution_count": 3,
   "metadata": {},
   "outputs": [
    {
     "name": "stdout",
     "output_type": "stream",
     "text": [
      "/asyn.py\n",
      "/boot.py\n",
      "/lib\n"
     ]
    }
   ],
   "source": [
    "!ampy -p /dev/ttyUSB0 ls"
   ]
  },
  {
   "cell_type": "markdown",
   "metadata": {},
   "source": [
    "As you can see there is `asyn.py`. "
   ]
  },
  {
   "cell_type": "code",
   "execution_count": null,
   "metadata": {},
   "outputs": [],
   "source": []
  }
 ],
 "metadata": {
  "kernelspec": {
   "display_name": "Python 3",
   "language": "python",
   "name": "python3"
  },
  "language_info": {
   "codemirror_mode": {
    "name": "ipython",
    "version": 3
   },
   "file_extension": ".py",
   "mimetype": "text/x-python",
   "name": "python",
   "nbconvert_exporter": "python",
   "pygments_lexer": "ipython3",
   "version": "3.6.9"
  }
 },
 "nbformat": 4,
 "nbformat_minor": 4
}
