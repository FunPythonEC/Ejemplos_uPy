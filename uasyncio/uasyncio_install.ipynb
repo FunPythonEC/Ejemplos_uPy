{
 "cells": [
  {
   "cell_type": "markdown",
   "metadata": {},
   "source": [
    "# Installing asyncio\n",
    "Fortunately there is an asyncio library that has been developed to be used in MicroPython defined as `uasyncio`. There are three ways in which it can be installed, in this case it will be done by using wifi and `upip`. In order to do that, we must first connect to the esp32 via serial with the following command:"
   ]
  },
  {
   "cell_type": "code",
   "execution_count": 1,
   "metadata": {},
   "outputs": [
    {
     "name": "stdout",
     "output_type": "stream",
     "text": [
      "\u001b[34mConnecting to --port=/dev/ttyUSB0 --baud=115200 \u001b[0m\n",
      "\u001b[34mReady.\n",
      "\u001b[0m"
     ]
    }
   ],
   "source": [
    "%serialconnect --port /dev/ttyUSB0 --baudrate 115200"
   ]
  },
  {
   "cell_type": "markdown",
   "metadata": {},
   "source": [
    "Once it is connected, we can continue by connecting our esp32 to the internet so that we can download `uasyncio`. `SSID` and `PASSW` should be changed depending on what wifi network you will connect to."
   ]
  },
  {
   "cell_type": "code",
   "execution_count": 2,
   "metadata": {},
   "outputs": [
    {
     "name": "stdout",
     "output_type": "stream",
     "text": [
      "conectado a internet\n"
     ]
    }
   ],
   "source": [
    "import network\n",
    "sta_if = network.WLAN(network.STA_IF)\n",
    "if not sta_if.isconnected():\n",
    "    sta_if.active(True)\n",
    "    sta_if.connect('FLIA SILVA', 'generacionsilva1976')\n",
    "    while not sta_if.isconnected():\n",
    "        pass\n",
    "if sta_if.isconnected():\n",
    "    print('conectado a internet')"
   ]
  },
  {
   "cell_type": "markdown",
   "metadata": {},
   "source": [
    "Once connected to the internet, we can proceed to import `upip` and run `upip.install`, where the parameter must be the name of the library wanted to be installed."
   ]
  },
  {
   "cell_type": "code",
   "execution_count": 3,
   "metadata": {},
   "outputs": [
    {
     "name": "stdout",
     "output_type": "stream",
     "text": [
      "Installing to: /lib/\n",
      "Warning: micropython.org SSL certificate is not validated\n",
      "Installing micropython-uasyncio 2.0 from https://micropython.org/pi/uasyncio/uasyncio-2.0.tar.gz\n",
      ".Installing micropython-uasyncio.core 2.0 from https://micropython.org/pi/uasyncio.core/uasyncio.core-2.0.tar.gz\n",
      "."
     ]
    }
   ],
   "source": [
    "import upip\n",
    "upip.install('micropython-uasyncio')"
   ]
  },
  {
   "cell_type": "markdown",
   "metadata": {},
   "source": [
    "Now if no error was returned, we should be good to go, and can prove it by the following:"
   ]
  },
  {
   "cell_type": "code",
   "execution_count": 4,
   "metadata": {},
   "outputs": [
    {
     "name": "stdout",
     "output_type": "stream",
     "text": [
      "object <module 'uasyncio' from '/lib/uasyncio/__init__.py'> is of type module\n",
      "  log -- None\n",
      "  IOWrite -- <class 'IOWrite'>\n",
      "  select -- <module 'uselect'>\n",
      "  Task -- <function Task at 0x3fff0a50>\n",
      "  IORead -- <class 'IORead'>\n",
      "  PollEventLoop -- <class 'PollEventLoop'>\n",
      "  ensure_future -- <function ensure_future at 0x3fff0a20>\n",
      "  StreamReader -- <class 'StreamReader'>\n",
      "  IOReadDone -- <class 'IOReadDone'>\n",
      "  uerrno -- <module 'uerrno'>\n",
      "  open_connection -- <generator>\n",
      "  start_server -- <generator>\n",
      "  EventLoop -- <class 'EventLoop'>\n",
      "  StopLoop -- <class 'StopLoop'>\n",
      "  ucollections -- <module 'ucollections'>\n",
      "  StreamWriter -- <class 'StreamWriter'>\n",
      "  time -- <module 'utime'>\n",
      "  uasyncio -- <module 'uasyncio' from '/lib/uasyncio/__init__.py'>\n",
      "  cancel -- <function cancel at 0x3fff0680>\n",
      "  sleep -- <generator>\n",
      "  utimeq -- <module 'utimeq'>\n",
      "  sleep_ms -- <SleepMs object at 3fff0660>\n",
      "  CancelledError -- <class 'CancelledError'>\n",
      "  __file__ -- /lib/uasyncio/__init__.py\n",
      "  SysCall1 -- <class 'SysCall1'>\n",
      "  wait_for_ms -- <generator>\n",
      "  TimeoutError -- <class 'TimeoutError'>\n",
      "  _socket -- <module 'usocket'>\n",
      "  SleepMs -- <class 'SleepMs'>\n",
      "  set_debug -- <function set_debug at 0x3ffe6be0>\n",
      "  SysCall -- <class 'SysCall'>\n",
      "  coroutine -- <function coroutine at 0x3fff0700>\n",
      "  DEBUG -- 0\n",
      "  __name__ -- uasyncio\n",
      "  IOWriteDone -- <class 'IOWriteDone'>\n",
      "  type_gen -- <class 'generator'>\n",
      "  core -- <module 'uasyncio.core' from '/lib/uasyncio/core.py'>\n",
      "  __path__ -- /lib/uasyncio\n",
      "  wait_for -- <function wait_for at 0x3fff06f0>\n",
      "  TimeoutObj -- <class 'TimeoutObj'>\n",
      "  get_event_loop -- <function get_event_loop at 0x3fff0710>\n"
     ]
    }
   ],
   "source": [
    "import uasyncio\n",
    "help(uasyncio)"
   ]
  },
  {
   "cell_type": "code",
   "execution_count": null,
   "metadata": {},
   "outputs": [],
   "source": []
  }
 ],
 "metadata": {
  "kernelspec": {
   "display_name": "MicroPython - USB",
   "language": "micropython",
   "name": "micropython"
  },
  "language_info": {
   "codemirror_mode": "python",
   "file_extension": ".py",
   "mimetype": "text/python",
   "name": "micropython"
  }
 },
 "nbformat": 4,
 "nbformat_minor": 4
}
