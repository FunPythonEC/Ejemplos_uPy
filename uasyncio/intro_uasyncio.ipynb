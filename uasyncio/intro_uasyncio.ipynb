{
 "cells": [
  {
   "cell_type": "markdown",
   "metadata": {},
   "source": [
    "# uasyncio intro\n",
    "\n",
    "So basically asyncio is a module that allows us to complete more than one process at once, here we will see how it can be used, some of its syntaxis and what coroutines are. First we must connect via serial with the microcontroller"
   ]
  },
  {
   "cell_type": "code",
   "execution_count": 1,
   "metadata": {},
   "outputs": [
    {
     "name": "stdout",
     "output_type": "stream",
     "text": [
      "\u001b[34mConnecting to --port=/dev/ttyUSB0 --baud=115200 \u001b[0m\n",
      "\u001b[34mReady.\n",
      "\u001b[0m"
     ]
    }
   ],
   "source": [
    "%serialconnect --port=/dev/ttyUSB0"
   ]
  },
  {
   "cell_type": "markdown",
   "metadata": {},
   "source": [
    "First things first, in order to use uasyncio, we must first import it."
   ]
  },
  {
   "cell_type": "code",
   "execution_count": 2,
   "metadata": {},
   "outputs": [],
   "source": [
    "import uasyncio as asyncio"
   ]
  },
  {
   "cell_type": "markdown",
   "metadata": {},
   "source": [
    "Now in order to use asyncio, we must first define our process in function, in order to make a function runnable by asyncio, we muest use `async` before the `def` of the funcion, so that it is known that this function\n",
    "\n",
    "Also it is demanded that in every function, `await asyncio.sleep(delay)` is used, this is needed to give the machine time to reorder the coroutines, however `delay` can be equals zero. For the next step an example of an asyncio functin will be run."
   ]
  },
  {
   "cell_type": "code",
   "execution_count": 3,
   "metadata": {},
   "outputs": [],
   "source": [
    "async def bar():\n",
    "    count = 0\n",
    "    while count<=5:\n",
    "        count += 1\n",
    "        print(count)\n",
    "        await asyncio.sleep(1)"
   ]
  },
  {
   "cell_type": "markdown",
   "metadata": {},
   "source": [
    "Then to run all asyncio defined functions, it is needed to initialize `asyncio.get_even_loop()`, in the following steps we will do this and then look at all the methods or objects it has."
   ]
  },
  {
   "cell_type": "code",
   "execution_count": 4,
   "metadata": {},
   "outputs": [],
   "source": [
    "loop=asyncio.get_event_loop()"
   ]
  },
  {
   "cell_type": "code",
   "execution_count": 5,
   "metadata": {},
   "outputs": [
    {
     "name": "stdout",
     "output_type": "stream",
     "text": [
      "object <PollEventLoop object at 3ffe79e0> is of type PollEventLoop\n",
      "  __init__ -- <function __init__ at 0x3ffe6f80>\n",
      "  remove_reader -- <function remove_reader at 0x3ffe6fc0>\n",
      "  wait -- <function wait at 0x3ffe6fd0>\n",
      "  __qualname__ -- PollEventLoop\n",
      "  add_writer -- <function add_writer at 0x3ffe6fa0>\n",
      "  remove_writer -- <function remove_writer at 0x3ffe6fb0>\n",
      "  add_reader -- <function add_reader at 0x3ffe6f60>\n",
      "  __module__ -- uasyncio\n"
     ]
    }
   ],
   "source": [
    "help(loop)"
   ]
  },
  {
   "cell_type": "code",
   "execution_count": 6,
   "metadata": {},
   "outputs": [
    {
     "name": "stdout",
     "output_type": "stream",
     "text": [
      "object <bound_method> is of type bound_method\n"
     ]
    }
   ],
   "source": [
    "help(loop.create_task)"
   ]
  },
  {
   "cell_type": "code",
   "execution_count": 7,
   "metadata": {},
   "outputs": [
    {
     "name": "stdout",
     "output_type": "stream",
     "text": [
      "object <bound_method> is of type bound_method\n"
     ]
    }
   ],
   "source": [
    "help(loop.run_forever)"
   ]
  },
  {
   "cell_type": "markdown",
   "metadata": {},
   "source": [
    "Now in order to run the function, all the above should be run as follows"
   ]
  },
  {
   "cell_type": "code",
   "execution_count": 8,
   "metadata": {},
   "outputs": [
    {
     "name": "stdout",
     "output_type": "stream",
     "text": [
      "1\n",
      "2\n",
      "3\n",
      "4\n",
      "5\n",
      "6\n",
      ".\u001b[34m\n",
      "\n",
      "*** Sending Ctrl-C\n",
      "\n",
      "\u001b[0m"
     ]
    },
    {
     "name": "stderr",
     "output_type": "stream",
     "text": [
      "Traceback (most recent call last):\n",
      "  File \"<stdin>\", line 2, in <module>\n",
      "  File \"/lib/uasyncio/core.py\", line 173, in run_forever\n",
      "  File \"/lib/uasyncio/__init__.py\", line 69, in wait\n",
      "KeyboardInterrupt: \n"
     ]
    }
   ],
   "source": [
    "loop.create_task(bar())\n",
    "loop.run_forever()"
   ]
  },
  {
   "cell_type": "markdown",
   "metadata": {},
   "source": [
    "It must be considered, that instead of `.run_forever()`, you can also run `.run_until_complete(func)`, where `func` is the function that is wanted to be run at that moment. After running `.run_forever()`, any following line of code won't be run, only what has already been added with `.create_task(func())`.\n",
    "\n",
    "At first it could have been seen as if it was not actually capable of doing more than one process at once, so now two functions will be run.\n",
    "\n",
    "Since the last code made the ESP32 to keep running in a loop, this must be stopped by interrupting the kernel, click the square button below this notebook name."
   ]
  },
  {
   "cell_type": "code",
   "execution_count": 9,
   "metadata": {},
   "outputs": [
    {
     "name": "stdout",
     "output_type": "stream",
     "text": [
      "bar count:  1\n",
      "foo count:  -1\n",
      "bar count:  2\n",
      "foo count:  -2\n",
      "bar count:  3\n",
      "foo count:  -3\n",
      "bar count:  4\n",
      "bar count:  5\n",
      "foo count:  -4\n",
      "bar count:  6\n",
      "foo count:  -5\n",
      "foo count:  -6\n",
      "..\u001b[34m\n",
      "\n",
      "*** Sending Ctrl-C\n",
      "\n",
      "\u001b[0m"
     ]
    },
    {
     "name": "stderr",
     "output_type": "stream",
     "text": [
      "Traceback (most recent call last):\n",
      "  File \"<stdin>\", line 22, in <module>\n",
      "  File \"/lib/uasyncio/core.py\", line 173, in run_forever\n",
      "  File \"/lib/uasyncio/__init__.py\", line 69, in wait\n",
      "KeyboardInterrupt: \n"
     ]
    }
   ],
   "source": [
    "import uasyncio as asyncio\n",
    "\n",
    "\n",
    "async def bar():\n",
    "    count = 0\n",
    "    while count<=5:\n",
    "        count += 1\n",
    "        print('bar count: ',count)\n",
    "        await asyncio.sleep(1)\n",
    "             \n",
    "async def foo():\n",
    "    count = 0\n",
    "    while count>=-5:\n",
    "        count += -1\n",
    "        print('foo count: ',count)\n",
    "        await asyncio.sleep(1.5)\n",
    "\n",
    "loop = asyncio.get_event_loop()\n",
    "loop.create_task(bar())\n",
    "loop.create_task(foo())\n",
    "loop.run_forever()"
   ]
  },
  {
   "cell_type": "markdown",
   "metadata": {},
   "source": [
    "Since so far what has been used is `.run_forever()`, it is needed everytime to unterrupt the kernel, then lets see what happens when we use `.run_until_complete()`"
   ]
  },
  {
   "cell_type": "code",
   "execution_count": 10,
   "metadata": {},
   "outputs": [
    {
     "name": "stdout",
     "output_type": "stream",
     "text": [
      "foo count:  -1\n",
      "foo count:  -2\n",
      "foo count:  -3\n",
      "foo count:  -4\n",
      "foo count:  -5\n",
      ".foo count:  -6\n"
     ]
    }
   ],
   "source": [
    "loop.run_until_complete(foo())"
   ]
  },
  {
   "cell_type": "markdown",
   "metadata": {},
   "source": [
    "In this case there should be no need to interrupt the kernel, lets see"
   ]
  },
  {
   "cell_type": "code",
   "execution_count": 11,
   "metadata": {},
   "outputs": [
    {
     "name": "stdout",
     "output_type": "stream",
     "text": [
      "hi\n"
     ]
    }
   ],
   "source": [
    "print('hi')"
   ]
  },
  {
   "cell_type": "markdown",
   "metadata": {},
   "source": [
    "It is all right!"
   ]
  },
  {
   "cell_type": "markdown",
   "metadata": {},
   "source": [
    "Now everything we have done before is basically Coros (coroutines) which will be explained in the next notebook."
   ]
  }
 ],
 "metadata": {
  "kernelspec": {
   "display_name": "MicroPython - USB",
   "language": "micropython",
   "name": "micropython"
  },
  "language_info": {
   "codemirror_mode": "python",
   "file_extension": ".py",
   "mimetype": "text/python",
   "name": "micropython"
  }
 },
 "nbformat": 4,
 "nbformat_minor": 4
}
