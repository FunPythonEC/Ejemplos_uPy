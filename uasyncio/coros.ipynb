{
 "cells": [
  {
   "cell_type": "markdown",
   "metadata": {},
   "source": [
    "## Corutinas con asyncio y MicroPython\n",
    "\n",
    "Lo visto en la introducción, es basicamente a lo que se le puede llamar una corutina, y en el segundo ejemplo se implementaron dos de estas, que tambien son llamados como coros. A coro es basically the procedure that asyncio runs, which can be more than one, it is important to have in mind that all coros are defined as functions that will be run, and they must have at least  one the folloing inside `await asyncio.sleep(1)`, even if the delay is 0. `await` can always be used to wait for any asyncio defined function to be completed before continuing."
   ]
  },
  {
   "cell_type": "code",
   "execution_count": null,
   "metadata": {},
   "outputs": [],
   "source": [
    "import uasyncio as asyncio\n",
    "\n",
    "async def bar():\n",
    "    count = 0\n",
    "    while count<=10:\n",
    "        count += 1\n",
    "        print(count)\n",
    "\n",
    "loop = asyncio.get_event_loop()\n",
    "loop.create_task(bar()) # Schedule ASAP\n",
    "loop.run_forever()"
   ]
  },
  {
   "cell_type": "markdown",
   "metadata": {},
   "source": [
    "break prueba"
   ]
  }
 ],
 "metadata": {
  "kernelspec": {
   "display_name": "MicroPython - USB",
   "language": "micropython",
   "name": "micropython"
  },
  "language_info": {
   "codemirror_mode": "python",
   "file_extension": ".py",
   "mimetype": "text/python",
   "name": "micropython"
  }
 },
 "nbformat": 4,
 "nbformat_minor": 4
}
