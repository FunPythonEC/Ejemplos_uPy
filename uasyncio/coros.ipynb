{
 "cells": [
  {
   "cell_type": "markdown",
   "metadata": {},
   "source": [
    "## Coroutines (uasyncio)\n",
    "\n",
    "Most of what was seen in the intro, is related to what a coro is and what can be done with it, most of it was queueing them. A coroutine are the asyncio functions defined then as tasks. Meaning we have almost seen most of them. The following will be about callbacks with asyncio.\n",
    "\n",
    "Callback functions wouldn't have any oportunity to let external callback functions to run since it is almost like an endless loop, so for that we have the following methods:\n",
    "* `.call_soon(func,arg1,arg2,arg3, ...)` - this one lets us run a function asap, `func` for function and `arg` for any argument needed.\n",
    "* `.call_later(time,func,arg1,arg2,arg3, ...)` - the only difference from the last one is that it lets us define a time in seconds as a delay before running, which is `time`.\n",
    "* `.call_later_ms(time,func,arg1,arg2,arg3, ...)` - same as last one except this time it is ms.\n",
    "\n",
    "Lets run an example. As always lets connect to the board first."
   ]
  },
  {
   "cell_type": "code",
   "execution_count": 2,
   "metadata": {},
   "outputs": [
    {
     "name": "stdout",
     "output_type": "stream",
     "text": [
      "\u001b[34mConnecting to --port=/dev/ttyUSB0 --baud=115200 \u001b[0m\n",
      "\u001b[34mReady.\n",
      "\u001b[0m"
     ]
    }
   ],
   "source": [
    "%serialconnect --port /dev/ttyUSB0 --baudrate 115200"
   ]
  },
  {
   "cell_type": "code",
   "execution_count": 3,
   "metadata": {},
   "outputs": [
    {
     "name": "stderr",
     "output_type": "stream",
     "text": [
      "Traceback (most recent call last):\n",
      "  File \"<stdin>\", line 9, in <module>\n",
      "AttributeError: 'PollEventLoop' object has no attribute 'call_soon_threadsafe'\n"
     ]
    }
   ],
   "source": [
    "import uasyncio as asyncio\n",
    "\n",
    "def foo(delay_secs,loop):\n",
    "    import time\n",
    "    time.sleep(delay_secs)\n",
    "    print('Hello')\n",
    "    loop.stop()\n",
    "\n",
    "loop = asyncio.get_event_loop()\n",
    "loop.call_soon(foo, 4,loop)\n",
    "loop.run_forever()"
   ]
  },
  {
   "cell_type": "markdown",
   "metadata": {},
   "source": [
    "break prueba"
   ]
  }
 ],
 "metadata": {
  "kernelspec": {
   "display_name": "MicroPython - USB",
   "language": "micropython",
   "name": "micropython"
  },
  "language_info": {
   "codemirror_mode": "python",
   "file_extension": ".py",
   "mimetype": "text/python",
   "name": "micropython"
  }
 },
 "nbformat": 4,
 "nbformat_minor": 4
}
