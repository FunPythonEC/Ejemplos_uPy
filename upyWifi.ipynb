{
 "cells": [
  {
   "cell_type": "markdown",
   "metadata": {},
   "source": [
    "# Micropython WiFi Connection - STA and AP examples\n",
    "\n",
    "In this notebook how the WiFi capabilities of the ESP32 can be used. It inclues making a WiFi station as well as an access point.\n",
    "\n",
    "\n",
    "## Serial connection\n",
    "Serial connection established in order to program de microcontroller."
   ]
  },
  {
   "cell_type": "code",
   "execution_count": 2,
   "metadata": {},
   "outputs": [
    {
     "name": "stdout",
     "output_type": "stream",
     "text": [
      "\u001b[34mConnecting to --port=/dev/ttyUSB1 --baud=115200 \u001b[0m\n",
      "\u001b[34mReady.\n",
      "\u001b[0m"
     ]
    }
   ],
   "source": [
    "%serialconnect to --port=/dev/ttyUSB1 --baud=115200"
   ]
  },
  {
   "cell_type": "markdown",
   "metadata": {},
   "source": [
    "The port specified is used in Linux, in other OS like Windows, it is defined like COM#."
   ]
  },
  {
   "cell_type": "markdown",
   "metadata": {},
   "source": [
    "## WiFi connection - Station Mode\n",
    "\n",
    "`network` is imported, library used to control de WiFi capabilities of the ESP32.\n",
    "It is first imported and then with `network.WLAN({WiFiMode})` is used to define the object to control ESP's WiFi. `network.STA_IF` is used to define a Station."
   ]
  },
  {
   "cell_type": "code",
   "execution_count": 3,
   "metadata": {
    "scrolled": true
   },
   "outputs": [],
   "source": [
    "import network\n",
    "import ubinascii\n",
    "sta = network.WLAN(network.STA_IF)\n",
    "sta.active(True) #WiFi STA activated"
   ]
  },
  {
   "cell_type": "markdown",
   "metadata": {},
   "source": [
    "WiFi SSID and PASSWORD definition."
   ]
  },
  {
   "cell_type": "code",
   "execution_count": 4,
   "metadata": {},
   "outputs": [],
   "source": [
    "ssid='SoccerRobot'\n",
    "pasw='esp12345678'"
   ]
  },
  {
   "cell_type": "markdown",
   "metadata": {},
   "source": [
    "Scan of access points to which the ESP32 can connect."
   ]
  },
  {
   "cell_type": "code",
   "execution_count": 5,
   "metadata": {},
   "outputs": [
    {
     "name": "stdout",
     "output_type": "stream",
     "text": [
      "[(b'Asian Coffee Roaster.net', b'H{kW\\x0c\\xc8', 5, -54, 4, False), (b'Dario', b'\\xc4qT\\xe1\\xfe\\x08', 10, -82, 3, False), (b'MYSTICAL', b'\\xa0\\xf3\\xc1\\xbe\\x83\\xa8', 6, -86, 3, False), (b'LEGALOCEAN', b'P\\xc7\\xbfo\\xd9 ', 8, -87, 4, False), (b'Alcaldia_Guayaquil', b'\\xe0\\x10\\x7f\\xa6g(', 4, -90, 0, False), (b'Claro_PEREZPARRA', b'\\xa4\\x15\\x88\\x03\\x8b0', 11, -92, 4, False)]\n",
      "b'Asian Coffee Roaster.net'\n",
      "417369616e20436f6666656520526f61737465722e6e6574\n",
      "b'Dario'\n",
      "446172696f\n",
      "b'MYSTICAL'\n",
      "4d5953544943414c\n",
      "b'LEGALOCEAN'\n",
      "4c4547414c4f4345414e\n",
      "b'Alcaldia_Guayaquil'\n",
      "416c63616c6469615f47756179617175696c\n",
      "b'Claro_PEREZPARRA'\n",
      "436c61726f5f504552455a5041525241\n"
     ]
    }
   ],
   "source": [
    "aps=sta.scan()\n",
    "print(aps)\n",
    "for i in range(0,len(aps)):\n",
    "    print(aps[i][0])\n",
    "    print(ubinascii.hexlify(aps[i][0]).decode())"
   ]
  },
  {
   "cell_type": "code",
   "execution_count": 7,
   "metadata": {},
   "outputs": [],
   "source": [
    "sta.connect(ssid, pasw) #connect to a define station"
   ]
  },
  {
   "cell_type": "code",
   "execution_count": 9,
   "metadata": {},
   "outputs": [
    {
     "name": "stdout",
     "output_type": "stream",
     "text": [
      "Estas conectado a SoccerRobot\r\n"
     ]
    }
   ],
   "source": [
    "if sta.isconnected(): #check if the ESP32 is connected to the station\n",
    "    print('Estas conectado a '+ssid)"
   ]
  },
  {
   "cell_type": "markdown",
   "metadata": {},
   "source": [
    "## WiFi connection - Access Point Mode\n",
    "\n",
    "It is kinda similar to the station mode, the difference is that `network.AP_IF` is defined when the WLAN object is instantiated. Some parameters can be specified, like the authmode, channel and whether if you want the network to be hidden or not.\n",
    "\n",
    "For authmode, the following values can be used:\n",
    "* 0 – open\n",
    "* 1 – WEP\n",
    "* 2 – WPA-PSK\n",
    "* 3 – WPA2-PSK\n",
    "* 4 – WPA/WPA2-PSK\n",
    "\n",
    "For more information, visit [class WLAN – control built-in WiFi interfaces](https://docs.micropython.org/en/latest/library/network.WLAN.html)\n"
   ]
  },
  {
   "cell_type": "code",
   "execution_count": 3,
   "metadata": {},
   "outputs": [],
   "source": [
    "import network\n",
    "ap = network.WLAN(network.AP_IF)\n",
    "ap.config(essid='ESP32St', authmode=3, password='123456789', channel=1, hidden=0)\n",
    "ap.active(True) #WiFi AP activated"
   ]
  },
  {
   "cell_type": "markdown",
   "metadata": {},
   "source": [
    "Once the AP is activated, and some device has connected to the network, you can also scan who is connected."
   ]
  },
  {
   "cell_type": "code",
   "execution_count": 7,
   "metadata": {},
   "outputs": [
    {
     "name": "stdout",
     "output_type": "stream",
     "text": [
      "[(b'\\xfc\\xa6!\\x8d\\xfb:',), (b'P\\xbc\\x96Z\\xe6\\xb5',), (b'0Z:\\x13\\x98 ',)]\n",
      "b'\\xfc\\xa6!\\x8d\\xfb:'\n",
      "fca6218dfb3a\n",
      "b'P\\xbc\\x96Z\\xe6\\xb5'\n",
      "50bc965ae6b5\n",
      "b'0Z:\\x13\\x98 '\n",
      "305a3a139820\n"
     ]
    }
   ],
   "source": [
    "import ubinascii\n",
    "stas=ap.status('stations')\n",
    "print(stas)\n",
    "for i in range(0,len(stas)):\n",
    "    print(stas[i][0])\n",
    "    print(ubinascii.hexlify(stas[i][0]).decode())"
   ]
  },
  {
   "cell_type": "code",
   "execution_count": null,
   "metadata": {},
   "outputs": [],
   "source": []
  }
 ],
 "metadata": {
  "kernelspec": {
   "display_name": "MicroPython - USB",
   "language": "micropython",
   "name": "micropython"
  },
  "language_info": {
   "codemirror_mode": "python",
   "file_extension": ".py",
   "mimetype": "text/python",
   "name": "micropython"
  }
 },
 "nbformat": 4,
 "nbformat_minor": 2
}
