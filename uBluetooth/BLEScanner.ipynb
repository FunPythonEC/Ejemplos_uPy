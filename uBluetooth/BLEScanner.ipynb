{
 "cells": [
  {
   "cell_type": "markdown",
   "metadata": {},
   "source": [
    "# Bluetooth examples and tests with MicroPython and ESP32\n",
    "So far the hadn't been support for bluetooth in MicroPython. Kinda just came out and here you can find some tests an examples based on the following documentation: [uBLE MicroPython](https://docs.micropython.org/en/latest/library/ubluetooth.html)"
   ]
  },
  {
   "cell_type": "code",
   "execution_count": 1,
   "metadata": {},
   "outputs": [
    {
     "name": "stdout",
     "output_type": "stream",
     "text": [
      "\u001b[34mConnecting to --port=/dev/ttyUSB0 --baud=115200 \u001b[0m\n",
      "\u001b[34mReady.\n",
      "\u001b[0m"
     ]
    }
   ],
   "source": [
    "%serialconnect to --port=/dev/ttyUSB0 --baud=115200"
   ]
  },
  {
   "cell_type": "markdown",
   "metadata": {},
   "source": [
    "First `ubluetooth` is imported and then `BLE` is defined. Some constants are defined in order to handle the interrupts from BLE. Here every of them is defined, however for a more specific use only the needed ones must be there."
   ]
  },
  {
   "cell_type": "code",
   "execution_count": 2,
   "metadata": {},
   "outputs": [],
   "source": [
    "import ubluetooth\n",
    "import utime\n",
    "from micropython import const\n",
    "\n",
    "_IRQ_CENTRAL_CONNECT                 = const(1 << 0)\n",
    "_IRQ_CENTRAL_DISCONNECT              = const(1 << 1)\n",
    "_IRQ_GATTS_WRITE                     = const(1 << 2)\n",
    "_IRQ_GATTS_READ_REQUEST              = const(1 << 3)\n",
    "_IRQ_SCAN_RESULT                     = const(1 << 4)\n",
    "_IRQ_SCAN_COMPLETE                   = const(1 << 5)\n",
    "_IRQ_PERIPHERAL_CONNECT              = const(1 << 6)\n",
    "_IRQ_PERIPHERAL_DISCONNECT           = const(1 << 7)\n",
    "_IRQ_GATTC_SERVICE_RESULT            = const(1 << 8)\n",
    "_IRQ_GATTC_CHARACTERISTIC_RESULT     = const(1 << 9)\n",
    "_IRQ_GATTC_DESCRIPTOR_RESULT         = const(1 << 10)\n",
    "_IRQ_GATTC_READ_RESULT               = const(1 << 11)\n",
    "_IRQ_GATTC_WRITE_STATUS              = const(1 << 12)\n",
    "_IRQ_GATTC_NOTIFY                    = const(1 << 13)\n",
    "_IRQ_GATTC_INDICATE                  = const(1 << 14)\n",
    "\n",
    "ble=ubluetooth.BLE()"
   ]
  },
  {
   "cell_type": "markdown",
   "metadata": {},
   "source": [
    "Afterwards we must activate bluetooth (if it is going to be used), in order to use any other coming method."
   ]
  },
  {
   "cell_type": "code",
   "execution_count": 3,
   "metadata": {},
   "outputs": [],
   "source": [
    "if ble.active()== False:\n",
    "    ble.active(True)"
   ]
  },
  {
   "cell_type": "markdown",
   "metadata": {},
   "source": [
    "Then checking if it is active."
   ]
  },
  {
   "cell_type": "code",
   "execution_count": 4,
   "metadata": {},
   "outputs": [
    {
     "name": "stdout",
     "output_type": "stream",
     "text": [
      "True\n"
     ]
    }
   ],
   "source": [
    "print(ble.active())"
   ]
  },
  {
   "cell_type": "markdown",
   "metadata": {},
   "source": [
    "MAC is printed just in case."
   ]
  },
  {
   "cell_type": "code",
   "execution_count": 5,
   "metadata": {},
   "outputs": [
    {
     "name": "stdout",
     "output_type": "stream",
     "text": [
      "BLE current mac address  b'\\xd0p\\xfe?\\xf8C'\n"
     ]
    }
   ],
   "source": [
    "print('BLE current mac address ', ble.config('mac'))"
   ]
  },
  {
   "cell_type": "markdown",
   "metadata": {},
   "source": [
    "These constants are then included in our interrupts handler for every case, so then it is added with `BLE.irq`."
   ]
  },
  {
   "cell_type": "code",
   "execution_count": 6,
   "metadata": {},
   "outputs": [],
   "source": [
    "def bt_irq(event, data):\n",
    "    \n",
    "    if event == _IRQ_CENTRAL_CONNECT:\n",
    "        # A central has connected to this peripheral.\n",
    "        conn_handle, addr_type, addr = data\n",
    "    elif event == _IRQ_CENTRAL_DISCONNECT:\n",
    "        # A central has disconnected from this peripheral.\n",
    "        conn_handle, addr_type, addr = data\n",
    "    elif event == _IRQ_GATTS_WRITE:\n",
    "        # A central has written to this characteristic or descriptor.\n",
    "        conn_handle, attr_handle = data\n",
    "    elif event == _IRQ_GATTS_READ_REQUEST:\n",
    "        # A central has issued a read. Note: this is a hard IRQ.\n",
    "        # Return None to deny the read.\n",
    "        # Note: This event is not supported on ESP32.\n",
    "        conn_handle, attr_handle = data\n",
    "    elif event == _IRQ_SCAN_RESULT:\n",
    "        # A single scan result.\n",
    "        addr_type, addr, connectable, rssi, adv_data = data\n",
    "        print(data)\n",
    "    elif event == _IRQ_SCAN_COMPLETE:\n",
    "        # Scan duration finished or manually stopped.\n",
    "        pass\n",
    "    elif event == _IRQ_PERIPHERAL_CONNECT:\n",
    "        # A successful gap_connect().\n",
    "        conn_handle, addr_type, addr = data\n",
    "    elif event == _IRQ_PERIPHERAL_DISCONNECT:\n",
    "        # Connected peripheral has disconnected.\n",
    "        conn_handle, addr_type, addr = data\n",
    "    elif event == _IRQ_GATTC_SERVICE_RESULT:\n",
    "        # Called for each service found by gattc_discover_services().\n",
    "        conn_handle, start_handle, end_handle, uuid = data\n",
    "    elif event == _IRQ_GATTC_CHARACTERISTIC_RESULT:\n",
    "        # Called for each characteristic found by gattc_discover_services().\n",
    "        conn_handle, def_handle, value_handle, properties, uuid = data\n",
    "    elif event == _IRQ_GATTC_DESCRIPTOR_RESULT:\n",
    "        # Called for each descriptor found by gattc_discover_descriptors().\n",
    "        conn_handle, dsc_handle, uuid = data\n",
    "    elif event == _IRQ_GATTC_READ_RESULT:\n",
    "        # A gattc_read() has completed.\n",
    "        conn_handle, value_handle, char_data = data\n",
    "    elif event == _IRQ_GATTC_WRITE_STATUS:\n",
    "        # A gattc_write() has completed.\n",
    "        conn_handle, value_handle, status = data\n",
    "    elif event == _IRQ_GATTC_NOTIFY:\n",
    "        # A peripheral has sent a notify request.\n",
    "        conn_handle, value_handle, notify_data = data\n",
    "    elif event == _IRQ_GATTC_INDICATE:\n",
    "        # A peripheral has sent an indicate request.\n",
    "        conn_handle, value_handle, notify_data = data\n",
    "        \n",
    "ble.irq(bt_irq)"
   ]
  },
  {
   "cell_type": "markdown",
   "metadata": {},
   "source": [
    "Finally scanning available BLE devices. Here the whole code is added so that it works."
   ]
  },
  {
   "cell_type": "code",
   "execution_count": 7,
   "metadata": {},
   "outputs": [
    {
     "name": "stdout",
     "output_type": "stream",
     "text": [
      "True\n",
      "BLE current mac address  b'\\x01\\x00\\x00\\x00\\x01\\x00'\n",
      "(0, b'\\x84\\r\\x8e\\x17\\x88\\x86', True, -47, b'')\n",
      "(0, b'\\x84\\r\\x8e\\x17\\x88\\x86', True, -51, b'')\n",
      "(0, b'\\x84\\r\\x8e\\x17\\x88\\x86', True, -54, b'')\n",
      "(0, b'\\x84\\r\\x8e\\x17\\x88\\x86', True, -47, b'')\n",
      "(0, b'\\x84\\r\\x8e\\x17\\x88\\x86', True, -50, b'')\n",
      "(0, b'\\x84\\r\\x8e\\x17\\x88\\x86', True, -54, b'')\n",
      "(0, b'\\x84\\r\\x8e\\x17\\x88\\x86', True, -54, b'')\n",
      "(0, b'\\x84\\r\\x8e\\x17\\x88\\x86', True, -47, b'')\n",
      "(0, b'\\x84\\r\\x8e\\x17\\x88\\x86', True, -51, b'')\n",
      "(0, b'\\x84\\r\\x8e\\x17\\x88\\x86', True, -54, b'')\n",
      "(0, b'\\x84\\r\\x8e\\x17\\x88\\x86', True, -47, b'')\n",
      "(0, b'\\x84\\r\\x8e\\x17\\x88\\x86', True, -50, b'')\n",
      "(0, b'\\x84\\r\\x8e\\x17\\x88\\x86', True, -54, b'')\n",
      "(0, b'\\x84\\r\\x8e\\x17\\x88\\x86', True, -48, b'')\n",
      "(0, b'\\x84\\r\\x8e\\x17\\x88\\x86', True, -50, b'')\n",
      "(0, b'\\x84\\r\\x8e\\x17\\x88\\x86', True, -55, b'')\n",
      "(0, b'\\x84\\r\\x8e\\x17\\x88\\x86', True, -47, b'')\n",
      "(0, b'\\x84\\r\\x8e\\x17\\x88\\x86', True, -50, b'')\n",
      "(0, b'\\x84\\r\\x8e\\x17\\x88\\x86', True, -54, b'')\n",
      "(0, b'\\x84\\r\\x8e\\x17\\x88\\x86', True, -47, b'')\n",
      "(0, b'\\x84\\r\\x8e\\x17\\x88\\x86', True, -50, b'')\n",
      "(0, b'\\x84\\r\\x8e\\x17\\x88\\x86', True, -54, b'')\n",
      "(0, b'\\x84\\r\\x8e\\x17\\x88\\x86', True, -53, b'')\n",
      "(0, b'\\x84\\r\\x8e\\x17\\x88\\x86', True, -47, b'')\n",
      "(0, b'\\x84\\r\\x8e\\x17\\x88\\x86', True, -50, b'')\n",
      "\u001b[34m\n",
      "\n",
      "*** Sending Ctrl-C\n",
      "\n",
      "\u001b[0m"
     ]
    },
    {
     "name": "stderr",
     "output_type": "stream",
     "text": [
      "Traceback (most recent call last):\n",
      "  File \"<stdin>\", line 85, in <module>\n",
      "KeyboardInterrupt: \n"
     ]
    }
   ],
   "source": [
    "import ubluetooth\n",
    "import utime\n",
    "from micropython import const\n",
    "_IRQ_CENTRAL_CONNECT                 = const(1 << 0)\n",
    "_IRQ_CENTRAL_DISCONNECT              = const(1 << 1)\n",
    "_IRQ_GATTS_WRITE                     = const(1 << 2)\n",
    "_IRQ_GATTS_READ_REQUEST              = const(1 << 3)\n",
    "_IRQ_SCAN_RESULT                     = const(1 << 4)\n",
    "_IRQ_SCAN_COMPLETE                   = const(1 << 5)\n",
    "_IRQ_PERIPHERAL_CONNECT              = const(1 << 6)\n",
    "_IRQ_PERIPHERAL_DISCONNECT           = const(1 << 7)\n",
    "_IRQ_GATTC_SERVICE_RESULT            = const(1 << 8)\n",
    "_IRQ_GATTC_CHARACTERISTIC_RESULT     = const(1 << 9)\n",
    "_IRQ_GATTC_DESCRIPTOR_RESULT         = const(1 << 10)\n",
    "_IRQ_GATTC_READ_RESULT               = const(1 << 11)\n",
    "_IRQ_GATTC_WRITE_STATUS              = const(1 << 12)\n",
    "_IRQ_GATTC_NOTIFY                    = const(1 << 13)\n",
    "_IRQ_GATTC_INDICATE                  = const(1 << 14)\n",
    "\n",
    "ble=ubluetooth.BLE()\n",
    "\n",
    "if ble.active()== False:\n",
    "    ble.active(True)\n",
    "    \n",
    "print(ble.active())\n",
    "\n",
    "print('BLE current mac address ', ble.config('mac'))\n",
    "\n",
    "\n",
    "def bt_irq(event, data):\n",
    "    if event == _IRQ_CENTRAL_CONNECT:\n",
    "        # A central has connected to this peripheral.\n",
    "        conn_handle, addr_type, addr = data\n",
    "    elif event == _IRQ_CENTRAL_DISCONNECT:\n",
    "        # A central has disconnected from this peripheral.\n",
    "        conn_handle, addr_type, addr = data\n",
    "    elif event == _IRQ_GATTS_WRITE:\n",
    "        # A central has written to this characteristic or descriptor.\n",
    "        conn_handle, attr_handle = data\n",
    "    elif event == _IRQ_GATTS_READ_REQUEST:\n",
    "        # A central has issued a read. Note: this is a hard IRQ.\n",
    "        # Return None to deny the read.\n",
    "        # Note: This event is not supported on ESP32.\n",
    "        conn_handle, attr_handle = data\n",
    "    elif event == _IRQ_SCAN_RESULT:\n",
    "        # A single scan result.\n",
    "        addr_type, addr, connectable, rssi, adv_data = data\n",
    "        print(data)\n",
    "    elif event == _IRQ_SCAN_COMPLETE:\n",
    "        # Scan duration finished or manually stopped.\n",
    "        pass\n",
    "    elif event == _IRQ_PERIPHERAL_CONNECT:\n",
    "        # A successful gap_connect().\n",
    "        conn_handle, addr_type, addr = data\n",
    "    elif event == _IRQ_PERIPHERAL_DISCONNECT:\n",
    "        # Connected peripheral has disconnected.\n",
    "        conn_handle, addr_type, addr = data\n",
    "    elif event == _IRQ_GATTC_SERVICE_RESULT:\n",
    "        # Called for each service found by gattc_discover_services().\n",
    "        conn_handle, start_handle, end_handle, uuid = data\n",
    "    elif event == _IRQ_GATTC_CHARACTERISTIC_RESULT:\n",
    "        # Called for each characteristic found by gattc_discover_services().\n",
    "        conn_handle, def_handle, value_handle, properties, uuid = data\n",
    "    elif event == _IRQ_GATTC_DESCRIPTOR_RESULT:\n",
    "        # Called for each descriptor found by gattc_discover_descriptors().\n",
    "        conn_handle, dsc_handle, uuid = data\n",
    "    elif event == _IRQ_GATTC_READ_RESULT:\n",
    "        # A gattc_read() has completed.\n",
    "        conn_handle, value_handle, char_data = data\n",
    "    elif event == _IRQ_GATTC_WRITE_STATUS:\n",
    "        # A gattc_write() has completed.\n",
    "        conn_handle, value_handle, status = data\n",
    "    elif event == _IRQ_GATTC_NOTIFY:\n",
    "        # A peripheral has sent a notify request.\n",
    "        conn_handle, value_handle, notify_data = data\n",
    "    elif event == _IRQ_GATTC_INDICATE:\n",
    "        # A peripheral has sent an indicate request.\n",
    "        conn_handle, value_handle, notify_data = data\n",
    "        \n",
    "ble.irq(bt_irq)\n",
    "\n",
    "ble.gap_scan(10000, 30000, 30000)\n",
    "ini=utime.ticks_ms()\n",
    "while utime.ticks_ms()-ini<=10000:\n",
    "    pass"
   ]
  }
 ],
 "metadata": {
  "kernelspec": {
   "display_name": "MicroPython - USB",
   "language": "micropython",
   "name": "micropython"
  },
  "language_info": {
   "codemirror_mode": "python",
   "file_extension": ".py",
   "mimetype": "text/python",
   "name": "micropython"
  }
 },
 "nbformat": 4,
 "nbformat_minor": 4
}
