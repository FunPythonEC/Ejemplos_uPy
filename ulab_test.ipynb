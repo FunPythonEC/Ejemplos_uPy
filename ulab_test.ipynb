{
 "cells": [
  {
   "cell_type": "markdown",
   "metadata": {},
   "source": [
    "# ulab Demo\n",
    "Here there will be simple examples about ulab usage."
   ]
  },
  {
   "cell_type": "code",
   "execution_count": 1,
   "metadata": {},
   "outputs": [
    {
     "name": "stdout",
     "output_type": "stream",
     "text": [
      "\u001b[34mConnecting to --port=/dev/ttyUSB0 --baud=115200 \u001b[0m\n",
      "\u001b[34mReady.\n",
      "\u001b[0m"
     ]
    }
   ],
   "source": [
    "%serialconnect -p /dev/ttyUSB0 --baudrate 115200"
   ]
  },
  {
   "cell_type": "code",
   "execution_count": 2,
   "metadata": {},
   "outputs": [],
   "source": [
    "import ulab as np"
   ]
  },
  {
   "cell_type": "code",
   "execution_count": 3,
   "metadata": {},
   "outputs": [
    {
     "name": "stdout",
     "output_type": "stream",
     "text": [
      "object <module 'ulab'> is of type module\n",
      "  __name__ -- ulab\n",
      "  __version__ -- 0.262\n",
      "  array -- <class 'ndarray'>\n",
      "  size -- <function>\n",
      "  inv -- <function>\n",
      "  dot -- <function>\n",
      "  zeros -- <function>\n",
      "  ones -- <function>\n",
      "  eye -- <function>\n",
      "  det -- <function>\n",
      "  eig -- <function>\n",
      "  acos -- <function>\n",
      "  acosh -- <function>\n",
      "  asin -- <function>\n",
      "  asinh -- <function>\n",
      "  atan -- <function>\n",
      "  atanh -- <function>\n",
      "  ceil -- <function>\n",
      "  cos -- <function>\n",
      "  erf -- <function>\n",
      "  erfc -- <function>\n",
      "  exp -- <function>\n",
      "  expm1 -- <function>\n",
      "  floor -- <function>\n",
      "  gamma -- <function>\n",
      "  lgamma -- <function>\n",
      "  log -- <function>\n",
      "  log10 -- <function>\n",
      "  log2 -- <function>\n",
      "  sin -- <function>\n",
      "  sinh -- <function>\n",
      "  sqrt -- <function>\n",
      "  tan -- <function>\n",
      "  tanh -- <function>\n",
      "  linspace -- <function>\n",
      "  sum -- <function>\n",
      "  mean -- <function>\n",
      "  std -- <function>\n",
      "  min -- <function>\n",
      "  max -- <function>\n",
      "  argmin -- <function>\n",
      "  argmax -- <function>\n",
      "  roll -- <function>\n",
      "  flip -- <function>\n",
      "  diff -- <function>\n",
      "  sort -- <function>\n",
      "  argsort -- <function>\n",
      "  polyval -- <function>\n",
      "  polyfit -- <function>\n",
      "  fft -- <function>\n",
      "  ifft -- <function>\n",
      "  spectrum -- <function>\n",
      "  uint8 -- 66\n",
      "  int8 -- 98\n",
      "  uint16 -- 72\n",
      "  int16 -- 104\n",
      "  float -- 102\n"
     ]
    }
   ],
   "source": [
    "help(np)"
   ]
  },
  {
   "cell_type": "code",
   "execution_count": 4,
   "metadata": {},
   "outputs": [
    {
     "name": "stdout",
     "output_type": "stream",
     "text": [
      "object <class 'ndarray'> is of type type\n",
      "  shape -- <function>\n",
      "  rawsize -- <function>\n",
      "  flatten -- <function>\n",
      "  asbytearray -- <function>\n",
      "  transpose -- <function>\n",
      "  reshape -- <function>\n",
      "  sort -- <function>\n"
     ]
    }
   ],
   "source": [
    "help(np.array)"
   ]
  },
  {
   "cell_type": "code",
   "execution_count": 5,
   "metadata": {},
   "outputs": [
    {
     "name": "stdout",
     "output_type": "stream",
     "text": [
      "object <function> is of type function\n"
     ]
    }
   ],
   "source": [
    "help(np.fft)"
   ]
  },
  {
   "cell_type": "code",
   "execution_count": 6,
   "metadata": {},
   "outputs": [
    {
     "name": "stdout",
     "output_type": "stream",
     "text": [
      "-0.5984601\r\n"
     ]
    }
   ],
   "source": [
    "print(np.cos(180))"
   ]
  },
  {
   "cell_type": "code",
   "execution_count": 7,
   "metadata": {},
   "outputs": [
    {
     "name": "stderr",
     "output_type": "stream",
     "text": [
      "Traceback (most recent call last):\n",
      "  File \"<stdin>\", line 1, in <module>\n",
      "AttributeError: 'module' object has no attribute 'pi'\n"
     ]
    }
   ],
   "source": [
    "print(np.cos(np.pi))"
   ]
  },
  {
   "cell_type": "code",
   "execution_count": 8,
   "metadata": {},
   "outputs": [],
   "source": [
    "import math"
   ]
  },
  {
   "cell_type": "code",
   "execution_count": 9,
   "metadata": {},
   "outputs": [
    {
     "name": "stdout",
     "output_type": "stream",
     "text": [
      "-1.0\r\n"
     ]
    }
   ],
   "source": [
    "print(np.cos(math.pi))"
   ]
  },
  {
   "cell_type": "code",
   "execution_count": 10,
   "metadata": {},
   "outputs": [],
   "source": [
    "a=np.array([1,2,3])"
   ]
  },
  {
   "cell_type": "code",
   "execution_count": 11,
   "metadata": {},
   "outputs": [],
   "source": [
    "a"
   ]
  },
  {
   "cell_type": "code",
   "execution_count": 12,
   "metadata": {},
   "outputs": [
    {
     "name": "stdout",
     "output_type": "stream",
     "text": [
      "array([1.0, 2.0, 3.0], dtype=float)\r\n"
     ]
    }
   ],
   "source": [
    "print(a)"
   ]
  },
  {
   "cell_type": "code",
   "execution_count": 13,
   "metadata": {},
   "outputs": [
    {
     "name": "stderr",
     "output_type": "stream",
     "text": [
      "Traceback (most recent call last):\n",
      "  File \"<stdin>\", line 1, in <module>\n",
      "NameError: name 'uint8' isn't defined\n"
     ]
    }
   ],
   "source": [
    "a=np.array([1,2,3],dtype=uint8)"
   ]
  },
  {
   "cell_type": "code",
   "execution_count": 14,
   "metadata": {},
   "outputs": [],
   "source": [
    "a=np.array([1,2,3],dtype=np.uint8)"
   ]
  },
  {
   "cell_type": "code",
   "execution_count": 15,
   "metadata": {},
   "outputs": [
    {
     "name": "stdout",
     "output_type": "stream",
     "text": [
      "array([1, 2, 3], dtype=uint8)\r\n"
     ]
    }
   ],
   "source": [
    "print(a)"
   ]
  },
  {
   "cell_type": "code",
   "execution_count": 16,
   "metadata": {},
   "outputs": [],
   "source": [
    "a=np.array([1,2,3,4],[5,6,7,8],dtype=np.uint8)"
   ]
  },
  {
   "cell_type": "code",
   "execution_count": 17,
   "metadata": {},
   "outputs": [
    {
     "name": "stdout",
     "output_type": "stream",
     "text": [
      "array([1, 2, 3, 4], dtype=uint8)\r\n"
     ]
    }
   ],
   "source": [
    "print(a)"
   ]
  },
  {
   "cell_type": "code",
   "execution_count": 18,
   "metadata": {},
   "outputs": [],
   "source": [
    "a=np.array([1,2,3,4],[5,6,7,8])"
   ]
  },
  {
   "cell_type": "code",
   "execution_count": 19,
   "metadata": {},
   "outputs": [
    {
     "name": "stdout",
     "output_type": "stream",
     "text": [
      "array([1.0, 2.0, 3.0, 4.0], dtype=float)\r\n"
     ]
    }
   ],
   "source": [
    "print(a)"
   ]
  },
  {
   "cell_type": "code",
   "execution_count": 20,
   "metadata": {},
   "outputs": [],
   "source": [
    "a=np.array(([1,2,3,4],[5,6,7,8]),dtype=np.uint8)"
   ]
  },
  {
   "cell_type": "code",
   "execution_count": 21,
   "metadata": {},
   "outputs": [
    {
     "name": "stdout",
     "output_type": "stream",
     "text": [
      "array([[1, 2, 3, 4],\n",
      "\t [5, 6, 7, 8]], dtype=uint8)\n"
     ]
    }
   ],
   "source": [
    "print(a)"
   ]
  },
  {
   "cell_type": "code",
   "execution_count": 22,
   "metadata": {},
   "outputs": [],
   "source": [
    "b=np.array([1,2,3], dtype=np.uint8)"
   ]
  },
  {
   "cell_type": "code",
   "execution_count": 23,
   "metadata": {},
   "outputs": [],
   "source": [
    "a=np.array([b,b],[b,b],dtype=np.uint8)"
   ]
  },
  {
   "cell_type": "code",
   "execution_count": 24,
   "metadata": {},
   "outputs": [
    {
     "name": "stdout",
     "output_type": "stream",
     "text": [
      "array([[1, 2, 3],\n",
      "\t [1, 2, 3]], dtype=uint8)\n"
     ]
    }
   ],
   "source": [
    "print(a)"
   ]
  },
  {
   "cell_type": "code",
   "execution_count": 25,
   "metadata": {},
   "outputs": [
    {
     "name": "stderr",
     "output_type": "stream",
     "text": [
      "Traceback (most recent call last):\n",
      "  File \"<stdin>\", line 1, in <module>\n",
      "TypeError: can't convert ndarray to int\n"
     ]
    }
   ],
   "source": [
    "a=np.array(([b,b],[b,b]),dtype=np.uint8)"
   ]
  },
  {
   "cell_type": "code",
   "execution_count": 26,
   "metadata": {},
   "outputs": [
    {
     "name": "stdout",
     "output_type": "stream",
     "text": [
      "(2, 3)\r\n"
     ]
    }
   ],
   "source": [
    "print(a.shape())"
   ]
  },
  {
   "cell_type": "code",
   "execution_count": 27,
   "metadata": {},
   "outputs": [
    {
     "name": "stdout",
     "output_type": "stream",
     "text": [
      "array([1, 2, 3, 1, 2, 3], dtype=uint8)\r\n"
     ]
    }
   ],
   "source": [
    "print(a.flatten())"
   ]
  },
  {
   "cell_type": "code",
   "execution_count": 28,
   "metadata": {},
   "outputs": [
    {
     "name": "stderr",
     "output_type": "stream",
     "text": [
      "Traceback (most recent call last):\n",
      "  File \"<stdin>\", line 1, in <module>\n",
      "IndexError: index is out of bounds\n"
     ]
    }
   ],
   "source": [
    "print(a[3])"
   ]
  },
  {
   "cell_type": "code",
   "execution_count": 29,
   "metadata": {},
   "outputs": [
    {
     "name": "stdout",
     "output_type": "stream",
     "text": [
      "array([1, 2, 3], dtype=uint8)\r\n"
     ]
    }
   ],
   "source": [
    "print(a[1])"
   ]
  },
  {
   "cell_type": "code",
   "execution_count": 30,
   "metadata": {},
   "outputs": [],
   "source": [
    "def timeit(f,*args, **kwargs):\n",
    "    import utime\n",
    "    func_name=str(f).split(' ')[1]\n",
    "    def new_func(*args,**kwargs):\n",
    "        t=utime.ticks_us()\n",
    "        result=f(*args,**kwargs)\n",
    "        print('execution time: ', utime.ticks_diff(utime.ticks_us(),t),' us')\n",
    "        return result\n",
    "    return new_func"
   ]
  },
  {
   "cell_type": "code",
   "execution_count": 31,
   "metadata": {},
   "outputs": [],
   "source": [
    "@timeit\n",
    "def sort_time(array):\n",
    "    return np.sort(array)"
   ]
  },
  {
   "cell_type": "code",
   "execution_count": 32,
   "metadata": {},
   "outputs": [
    {
     "name": "stdout",
     "output_type": "stream",
     "text": [
      "b:  array([0.0, 0.006286245, 0.01257224, ..., -0.01578295, -0.009497325, -0.003211318], dtype=float)\r\n"
     ]
    }
   ],
   "source": [
    "b=np.sin(np.linspace(0,6.28, num=1000))\n",
    "print('b: ',b)"
   ]
  },
  {
   "cell_type": "code",
   "execution_count": 33,
   "metadata": {},
   "outputs": [
    {
     "name": "stdout",
     "output_type": "stream",
     "text": [
      "execution time:  2870  us\r\n"
     ]
    }
   ],
   "source": [
    "sort_time(b)"
   ]
  },
  {
   "cell_type": "code",
   "execution_count": 34,
   "metadata": {},
   "outputs": [
    {
     "name": "stdout",
     "output_type": "stream",
     "text": [
      "array([0.0, 0.006286245, 0.01257224, ..., -0.01578295, -0.009497325, -0.003211318], dtype=float)\r\n"
     ]
    }
   ],
   "source": [
    "print(b)"
   ]
  },
  {
   "cell_type": "code",
   "execution_count": 35,
   "metadata": {},
   "outputs": [],
   "source": [
    "@timeit\n",
    "def linspace_creator():\n",
    "    return np.sin(np.linspace(0,6.28, num=1000))"
   ]
  },
  {
   "cell_type": "code",
   "execution_count": 36,
   "metadata": {},
   "outputs": [
    {
     "name": "stdout",
     "output_type": "stream",
     "text": [
      "execution time:  2704  us\r\n"
     ]
    }
   ],
   "source": [
    "b=linspace_creator()"
   ]
  },
  {
   "cell_type": "code",
   "execution_count": 37,
   "metadata": {},
   "outputs": [
    {
     "name": "stdout",
     "output_type": "stream",
     "text": [
      "execution time:  2197  us\r\n"
     ]
    }
   ],
   "source": [
    "b=linspace_creator()"
   ]
  },
  {
   "cell_type": "code",
   "execution_count": 38,
   "metadata": {},
   "outputs": [
    {
     "name": "stdout",
     "output_type": "stream",
     "text": [
      "execution time:  2224  us\r\n"
     ]
    }
   ],
   "source": [
    "b=linspace_creator()"
   ]
  },
  {
   "cell_type": "code",
   "execution_count": 39,
   "metadata": {},
   "outputs": [],
   "source": [
    "@timeit\n",
    "def linspace_creator():\n",
    "    b=np.sin(np.linspace(0,6.28, num=1000))\n",
    "    return np.sort(b)"
   ]
  },
  {
   "cell_type": "code",
   "execution_count": 40,
   "metadata": {},
   "outputs": [
    {
     "name": "stdout",
     "output_type": "stream",
     "text": [
      "execution time:  5128  us\r\n"
     ]
    }
   ],
   "source": [
    "b=linspace_creator()"
   ]
  },
  {
   "cell_type": "code",
   "execution_count": 41,
   "metadata": {},
   "outputs": [
    {
     "name": "stdout",
     "output_type": "stream",
     "text": [
      "array([-0.9999972, -0.9999922, -0.9999629, ..., 0.9999751, 0.9999848, 1.0], dtype=float)\r\n"
     ]
    }
   ],
   "source": [
    "print(b)"
   ]
  },
  {
   "cell_type": "code",
   "execution_count": null,
   "metadata": {},
   "outputs": [],
   "source": []
  }
 ],
 "metadata": {
  "kernelspec": {
   "display_name": "MicroPython - USB",
   "language": "micropython",
   "name": "micropython"
  },
  "language_info": {
   "codemirror_mode": "python",
   "file_extension": ".py",
   "mimetype": "text/python",
   "name": "micropython"
  }
 },
 "nbformat": 4,
 "nbformat_minor": 2
}
