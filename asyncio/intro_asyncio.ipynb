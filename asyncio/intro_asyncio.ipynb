{
 "cells": [
  {
   "cell_type": "markdown",
   "metadata": {},
   "source": [
    "# Asyncio intro\n",
    "\n",
    "Tutorial de asyncio seguido del siguiente link: https://github.com/peterhinch/micropython-async/blob/master/TUTORIAL.md\n",
    "Para instalar asyncio se debe correr los siguientes codigos en el micro, pero primero es necesario conectarse a internet.\n",
    "\n",
    "Para ello nos conectamos a la placa"
   ]
  },
  {
   "cell_type": "code",
   "execution_count": 1,
   "metadata": {},
   "outputs": [
    {
     "name": "stdout",
     "output_type": "stream",
     "text": [
      "\u001b[34mConnecting to --port=/dev/ttyUSB0 --baud=115200 \u001b[0m\n",
      "\u001b[34mReady.\n",
      "\u001b[0m"
     ]
    }
   ],
   "source": [
    "%serialconnect --port=/dev/ttyUSB0"
   ]
  },
  {
   "cell_type": "markdown",
   "metadata": {},
   "source": [
    "Procedemos a conectarnos a internet para poder instalar uasyncio"
   ]
  },
  {
   "cell_type": "markdown",
   "metadata": {},
   "source": [
    "ya conectados a internet, corremos lo siguiente para instalar las librerias."
   ]
  },
  {
   "cell_type": "markdown",
   "metadata": {},
   "source": [
    "El siguiente es un ejemplo corrido con asyncio, de manera que se define una funcion que sera corrida de manera asyncronica, y la misma que hara tendra un sleep de segundo.\n",
    "\n",
    "Para ello se debe de notar que se usa el prefijo `asyncio def function():` en la creación de alguna función y que ademas se usa `await asyncio.sleep(1)`, estas dos maneras de definir una funcion y además hacer un sleep, es lo que permite que nuestro microcontrolador al momento de ejecutar no se quede bloqueado y que pueda seguir con otro procesos."
   ]
  },
  {
   "cell_type": "code",
   "execution_count": 3,
   "metadata": {},
   "outputs": [
    {
     "name": "stdout",
     "output_type": "stream",
     "text": [
      "1\n",
      "1\n",
      "2\n",
      "2\n",
      "3\n",
      "3\n",
      "4\n",
      "4\n",
      "5\n",
      "5\n",
      "6\n",
      "6\n",
      "7\n",
      "7\n",
      "8\n",
      "8\n",
      "9\n",
      "9\n",
      "10\n",
      "10\n",
      "\u001b[34m\n",
      "\n",
      "*** Sending Ctrl-C\n",
      "\n",
      "\u001b[0m"
     ]
    },
    {
     "name": "stderr",
     "output_type": "stream",
     "text": [
      "Traceback (most recent call last):\n",
      "  File \"<stdin>\", line 12, in <module>\n",
      "  File \"/lib/uasyncio/core.py\", line 173, in run_forever\n",
      "  File \"/lib/uasyncio/__init__.py\", line 69, in wait\n",
      "KeyboardInterrupt: \n"
     ]
    }
   ],
   "source": [
    "import uasyncio as asyncio\n",
    "\n",
    "async def bar():\n",
    "    count = 0\n",
    "    while count<=10:\n",
    "        count += 1\n",
    "        print(count)\n",
    "        await asyncio.sleep(1)  # Pause 1s\n",
    "\n",
    "loop = asyncio.get_event_loop()\n",
    "loop.create_task(bar()) # Schedule ASAP\n",
    "loop.run_forever()"
   ]
  },
  {
   "cell_type": "markdown",
   "metadata": {},
   "source": [
    "Ahora con dos procesos distintos."
   ]
  },
  {
   "cell_type": "code",
   "execution_count": 7,
   "metadata": {},
   "outputs": [
    {
     "name": "stdout",
     "output_type": "stream",
     "text": [
      "1\n",
      "-1\n",
      "2\n",
      "-2\n",
      "3\n",
      "-3\n",
      "4\n",
      "5\n",
      "-4\n",
      "6\n",
      "-5\n",
      "7\n",
      "8\n",
      "-6\n",
      "9\n",
      "-7\n",
      "10\n",
      "11\n",
      "-8\n",
      ".12\n",
      "-9\n",
      "13\n",
      "14\n",
      "-10\n",
      "15\n",
      "-11\n",
      "16\n",
      "17\n",
      "-12\n",
      "18\n",
      "-13\n",
      "19\n",
      "20\n",
      "-14\n",
      "21\n",
      ".-15\n",
      "22\n",
      "23\n",
      "-16\n",
      "24\n",
      "\u001b[34m\n",
      "\n",
      "*** Sending Ctrl-C\n",
      "\n",
      "\u001b[0m"
     ]
    },
    {
     "name": "stderr",
     "output_type": "stream",
     "text": [
      "Traceback (most recent call last):\n",
      "  File \"<stdin>\", line 21, in <module>\n",
      "  File \"/lib/uasyncio/core.py\", line 173, in run_forever\n",
      "  File \"/lib/uasyncio/__init__.py\", line 69, in wait\n",
      "KeyboardInterrupt: \n"
     ]
    }
   ],
   "source": [
    "import uasyncio as asyncio\n",
    "\n",
    "\n",
    "async def bar():\n",
    "    count = 0\n",
    "    while True:\n",
    "        count += 1\n",
    "        print(count)\n",
    "        await asyncio.sleep(1)  # Pause 1s\n",
    "             \n",
    "async def foo():\n",
    "    count = 0\n",
    "    while True:\n",
    "        count += -1\n",
    "        print(count)\n",
    "        await asyncio.sleep(1.5)  # Pause 1s\n",
    "\n",
    "loop = asyncio.get_event_loop()\n",
    "loop.create_task(bar()) # Schedule ASAP\n",
    "loop.create_task(foo())\n",
    "loop.run_forever()"
   ]
  }
 ],
 "metadata": {
  "kernelspec": {
   "display_name": "MicroPython - USB",
   "language": "micropython",
   "name": "micropython"
  },
  "language_info": {
   "codemirror_mode": "python",
   "file_extension": ".py",
   "mimetype": "text/python",
   "name": "micropython"
  }
 },
 "nbformat": 4,
 "nbformat_minor": 4
}
